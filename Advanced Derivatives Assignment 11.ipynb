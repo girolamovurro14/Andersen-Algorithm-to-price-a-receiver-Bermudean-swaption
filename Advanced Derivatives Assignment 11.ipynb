{
 "cells": [
  {
   "cell_type": "code",
   "execution_count": 1,
   "id": "724fa99e",
   "metadata": {},
   "outputs": [],
   "source": [
    "import pandas as pd\n",
    "import matplotlib\n",
    "import matplotlib.pyplot as plt\n",
    "import numpy as np\n",
    "import tqdm\n",
    "import random"
   ]
  },
  {
   "cell_type": "markdown",
   "id": "3f20f70d",
   "metadata": {},
   "source": [
    "# Initial set-up and characteristics of the Bermudean swap\n",
    "In this section we set the following values:\n",
    "- Set of dates `T`\n",
    "- Time interval between each date `tau`\n",
    "- Fixed rate of the underlying swap `K`\n",
    "Moreover, we create the following functions which are useful in the implementation of the paths generation:\n",
    "- `sigma` that computes the volatility as function of k.\n",
    "- `theta` that computes the value of theta as function of k.\n",
    "- `d_W` that computes the increment of the Brownian Motion following the given hypothesis (also function of k).\n",
    "- `rho` that computes the correlation between two increments of BM which are functions of different k. \n",
    " \n"
   ]
  },
  {
   "cell_type": "code",
   "execution_count": 2,
   "id": "8cf1d28e",
   "metadata": {},
   "outputs": [],
   "source": [
    "# Set the vector of the dates\n",
    "\n",
    "T = np.array([i*0.25 for i in range(17)])\n",
    "\n",
    "# Strike (fixed rate of the underlying swap)\n",
    "\n",
    "K = 0.05\n",
    "\n",
    "# Tau\n",
    "\n",
    "tau = 0.25\n",
    "\n",
    "# Volatilities of forward rates F_k\n",
    "\n",
    "def sigma(k):\n",
    "    if k == 1:\n",
    "        sigma = 0\n",
    "    elif k>=2 and k<=7:\n",
    "        sigma = 0.2\n",
    "    elif k>=8 and k<=11:\n",
    "        sigma = 0.22\n",
    "    else:\n",
    "        sigma = 0.24\n",
    "    return sigma    \n",
    "\n",
    "# Theta, function of k\n",
    "\n",
    "def theta(k):\n",
    "    \n",
    "    theta = (np.pi/2)* (k - 2)/14\n",
    "    return theta\n",
    "\n",
    "# dW function of k\n",
    "\n",
    "def d_W(k):\n",
    "    # 2 independent draws from univariate standard normal distr\n",
    "    x1 = np.random.standard_normal(1)\n",
    "    x2 = np.random.standard_normal(1)\n",
    "    d_W = np.cos(theta(k))*x1*np.sqrt(0.25) + np.sin(theta(k))*x2*np.sqrt(0.25)\n",
    "    return d_W\n",
    "\n",
    "# function that computes the rho\n",
    "\n",
    "def rho(j,k):\n",
    "    rho = np.cos(theta(j) - theta(k))\n",
    "    return rho\n"
   ]
  },
  {
   "cell_type": "markdown",
   "id": "caeaed5a",
   "metadata": {},
   "source": [
    "# Implementation that generates one path of Forward rates\n",
    "In this section we create the function `paths_generator` that is able to generate one path of Forward rates under the LR - Spot measure following the description of slide 6/7, lecture 11."
   ]
  },
  {
   "cell_type": "code",
   "execution_count": 18,
   "id": "f0e1d266",
   "metadata": {},
   "outputs": [],
   "source": [
    "def paths_generator():\n",
    "    F = np.zeros((16,16))\n",
    "\n",
    "    # Set the first row of the matrix equal to the initial term structure\n",
    "    # which we assume to be flat\n",
    "\n",
    "    F[0,:] = 0.05\n",
    "    for k in range(1,16):\n",
    "        for t in range(1,k+1):\n",
    "            mu = np.sum([sigma(k+1)*tau*rho(j+1,k+1)*sigma(j+1)*F[t-1,j]/(1+tau*F[t-1,j]) for j in range(t-1,k+1)])\n",
    "            F[t,k] = F[t-1,k]*np.exp((mu - 0.5 * sigma(k+1)**2)*tau + sigma(k+1) * d_W(k+1))       \n",
    "    return F     "
   ]
  },
  {
   "cell_type": "markdown",
   "id": "611b1714",
   "metadata": {},
   "source": [
    "### Create different paths of Forward rates "
   ]
  },
  {
   "cell_type": "code",
   "execution_count": 19,
   "id": "feb39982",
   "metadata": {},
   "outputs": [],
   "source": [
    "path_list=[]\n",
    "S_vec=[]\n",
    "for i in range(1000):\n",
    "    f = paths_generator()\n",
    "    path_list.append(f)\n",
    "    "
   ]
  },
  {
   "cell_type": "markdown",
   "id": "061b3792",
   "metadata": {},
   "source": [
    "#### Here we visualize one path of Forward rates. Note that we reproduce what is shown on slide 7 lecture 11, but for our specific example."
   ]
  },
  {
   "cell_type": "code",
   "execution_count": 20,
   "id": "1b910839",
   "metadata": {},
   "outputs": [
    {
     "data": {
      "text/html": [
       "<div>\n",
       "<style scoped>\n",
       "    .dataframe tbody tr th:only-of-type {\n",
       "        vertical-align: middle;\n",
       "    }\n",
       "\n",
       "    .dataframe tbody tr th {\n",
       "        vertical-align: top;\n",
       "    }\n",
       "\n",
       "    .dataframe thead th {\n",
       "        text-align: right;\n",
       "    }\n",
       "</style>\n",
       "<table border=\"1\" class=\"dataframe\">\n",
       "  <thead>\n",
       "    <tr style=\"text-align: right;\">\n",
       "      <th></th>\n",
       "      <th>0</th>\n",
       "      <th>1</th>\n",
       "      <th>2</th>\n",
       "      <th>3</th>\n",
       "      <th>4</th>\n",
       "      <th>5</th>\n",
       "      <th>6</th>\n",
       "      <th>7</th>\n",
       "      <th>8</th>\n",
       "      <th>9</th>\n",
       "      <th>10</th>\n",
       "      <th>11</th>\n",
       "      <th>12</th>\n",
       "      <th>13</th>\n",
       "      <th>14</th>\n",
       "      <th>15</th>\n",
       "    </tr>\n",
       "  </thead>\n",
       "  <tbody>\n",
       "    <tr>\n",
       "      <th>0</th>\n",
       "      <td>0.05</td>\n",
       "      <td>0.050000</td>\n",
       "      <td>0.050000</td>\n",
       "      <td>0.050000</td>\n",
       "      <td>0.050000</td>\n",
       "      <td>0.050000</td>\n",
       "      <td>0.050000</td>\n",
       "      <td>0.050000</td>\n",
       "      <td>0.050000</td>\n",
       "      <td>0.050000</td>\n",
       "      <td>0.050000</td>\n",
       "      <td>0.050000</td>\n",
       "      <td>0.050000</td>\n",
       "      <td>0.050000</td>\n",
       "      <td>0.050000</td>\n",
       "      <td>0.050000</td>\n",
       "    </tr>\n",
       "    <tr>\n",
       "      <th>1</th>\n",
       "      <td>0.00</td>\n",
       "      <td>0.062325</td>\n",
       "      <td>0.056695</td>\n",
       "      <td>0.069591</td>\n",
       "      <td>0.044399</td>\n",
       "      <td>0.045410</td>\n",
       "      <td>0.052386</td>\n",
       "      <td>0.051368</td>\n",
       "      <td>0.044781</td>\n",
       "      <td>0.054391</td>\n",
       "      <td>0.048799</td>\n",
       "      <td>0.050069</td>\n",
       "      <td>0.039891</td>\n",
       "      <td>0.046480</td>\n",
       "      <td>0.045164</td>\n",
       "      <td>0.046023</td>\n",
       "    </tr>\n",
       "    <tr>\n",
       "      <th>2</th>\n",
       "      <td>0.00</td>\n",
       "      <td>0.000000</td>\n",
       "      <td>0.048358</td>\n",
       "      <td>0.075180</td>\n",
       "      <td>0.037375</td>\n",
       "      <td>0.041709</td>\n",
       "      <td>0.051658</td>\n",
       "      <td>0.060889</td>\n",
       "      <td>0.039504</td>\n",
       "      <td>0.047890</td>\n",
       "      <td>0.045083</td>\n",
       "      <td>0.050954</td>\n",
       "      <td>0.048953</td>\n",
       "      <td>0.055630</td>\n",
       "      <td>0.047013</td>\n",
       "      <td>0.046626</td>\n",
       "    </tr>\n",
       "    <tr>\n",
       "      <th>3</th>\n",
       "      <td>0.00</td>\n",
       "      <td>0.000000</td>\n",
       "      <td>0.000000</td>\n",
       "      <td>0.089668</td>\n",
       "      <td>0.037117</td>\n",
       "      <td>0.041608</td>\n",
       "      <td>0.051418</td>\n",
       "      <td>0.059198</td>\n",
       "      <td>0.036850</td>\n",
       "      <td>0.046114</td>\n",
       "      <td>0.054294</td>\n",
       "      <td>0.054599</td>\n",
       "      <td>0.048549</td>\n",
       "      <td>0.060546</td>\n",
       "      <td>0.051661</td>\n",
       "      <td>0.038492</td>\n",
       "    </tr>\n",
       "    <tr>\n",
       "      <th>4</th>\n",
       "      <td>0.00</td>\n",
       "      <td>0.000000</td>\n",
       "      <td>0.000000</td>\n",
       "      <td>0.000000</td>\n",
       "      <td>0.036152</td>\n",
       "      <td>0.043066</td>\n",
       "      <td>0.049801</td>\n",
       "      <td>0.062133</td>\n",
       "      <td>0.036238</td>\n",
       "      <td>0.042583</td>\n",
       "      <td>0.054562</td>\n",
       "      <td>0.053601</td>\n",
       "      <td>0.047919</td>\n",
       "      <td>0.048360</td>\n",
       "      <td>0.046762</td>\n",
       "      <td>0.032441</td>\n",
       "    </tr>\n",
       "    <tr>\n",
       "      <th>5</th>\n",
       "      <td>0.00</td>\n",
       "      <td>0.000000</td>\n",
       "      <td>0.000000</td>\n",
       "      <td>0.000000</td>\n",
       "      <td>0.000000</td>\n",
       "      <td>0.046049</td>\n",
       "      <td>0.052707</td>\n",
       "      <td>0.064549</td>\n",
       "      <td>0.036835</td>\n",
       "      <td>0.043784</td>\n",
       "      <td>0.052445</td>\n",
       "      <td>0.051421</td>\n",
       "      <td>0.050563</td>\n",
       "      <td>0.048508</td>\n",
       "      <td>0.066222</td>\n",
       "      <td>0.036184</td>\n",
       "    </tr>\n",
       "    <tr>\n",
       "      <th>6</th>\n",
       "      <td>0.00</td>\n",
       "      <td>0.000000</td>\n",
       "      <td>0.000000</td>\n",
       "      <td>0.000000</td>\n",
       "      <td>0.000000</td>\n",
       "      <td>0.000000</td>\n",
       "      <td>0.064331</td>\n",
       "      <td>0.075900</td>\n",
       "      <td>0.039302</td>\n",
       "      <td>0.045509</td>\n",
       "      <td>0.047629</td>\n",
       "      <td>0.056991</td>\n",
       "      <td>0.048408</td>\n",
       "      <td>0.045469</td>\n",
       "      <td>0.072565</td>\n",
       "      <td>0.036352</td>\n",
       "    </tr>\n",
       "    <tr>\n",
       "      <th>7</th>\n",
       "      <td>0.00</td>\n",
       "      <td>0.000000</td>\n",
       "      <td>0.000000</td>\n",
       "      <td>0.000000</td>\n",
       "      <td>0.000000</td>\n",
       "      <td>0.000000</td>\n",
       "      <td>0.000000</td>\n",
       "      <td>0.081936</td>\n",
       "      <td>0.040165</td>\n",
       "      <td>0.046491</td>\n",
       "      <td>0.061711</td>\n",
       "      <td>0.047626</td>\n",
       "      <td>0.041434</td>\n",
       "      <td>0.043906</td>\n",
       "      <td>0.070410</td>\n",
       "      <td>0.032745</td>\n",
       "    </tr>\n",
       "    <tr>\n",
       "      <th>8</th>\n",
       "      <td>0.00</td>\n",
       "      <td>0.000000</td>\n",
       "      <td>0.000000</td>\n",
       "      <td>0.000000</td>\n",
       "      <td>0.000000</td>\n",
       "      <td>0.000000</td>\n",
       "      <td>0.000000</td>\n",
       "      <td>0.000000</td>\n",
       "      <td>0.036275</td>\n",
       "      <td>0.050991</td>\n",
       "      <td>0.075304</td>\n",
       "      <td>0.058177</td>\n",
       "      <td>0.041206</td>\n",
       "      <td>0.054443</td>\n",
       "      <td>0.080741</td>\n",
       "      <td>0.033073</td>\n",
       "    </tr>\n",
       "  </tbody>\n",
       "</table>\n",
       "</div>"
      ],
      "text/plain": [
       "     0         1         2         3         4         5         6         7   \\\n",
       "0  0.05  0.050000  0.050000  0.050000  0.050000  0.050000  0.050000  0.050000   \n",
       "1  0.00  0.062325  0.056695  0.069591  0.044399  0.045410  0.052386  0.051368   \n",
       "2  0.00  0.000000  0.048358  0.075180  0.037375  0.041709  0.051658  0.060889   \n",
       "3  0.00  0.000000  0.000000  0.089668  0.037117  0.041608  0.051418  0.059198   \n",
       "4  0.00  0.000000  0.000000  0.000000  0.036152  0.043066  0.049801  0.062133   \n",
       "5  0.00  0.000000  0.000000  0.000000  0.000000  0.046049  0.052707  0.064549   \n",
       "6  0.00  0.000000  0.000000  0.000000  0.000000  0.000000  0.064331  0.075900   \n",
       "7  0.00  0.000000  0.000000  0.000000  0.000000  0.000000  0.000000  0.081936   \n",
       "8  0.00  0.000000  0.000000  0.000000  0.000000  0.000000  0.000000  0.000000   \n",
       "\n",
       "         8         9         10        11        12        13        14  \\\n",
       "0  0.050000  0.050000  0.050000  0.050000  0.050000  0.050000  0.050000   \n",
       "1  0.044781  0.054391  0.048799  0.050069  0.039891  0.046480  0.045164   \n",
       "2  0.039504  0.047890  0.045083  0.050954  0.048953  0.055630  0.047013   \n",
       "3  0.036850  0.046114  0.054294  0.054599  0.048549  0.060546  0.051661   \n",
       "4  0.036238  0.042583  0.054562  0.053601  0.047919  0.048360  0.046762   \n",
       "5  0.036835  0.043784  0.052445  0.051421  0.050563  0.048508  0.066222   \n",
       "6  0.039302  0.045509  0.047629  0.056991  0.048408  0.045469  0.072565   \n",
       "7  0.040165  0.046491  0.061711  0.047626  0.041434  0.043906  0.070410   \n",
       "8  0.036275  0.050991  0.075304  0.058177  0.041206  0.054443  0.080741   \n",
       "\n",
       "         15  \n",
       "0  0.050000  \n",
       "1  0.046023  \n",
       "2  0.046626  \n",
       "3  0.038492  \n",
       "4  0.032441  \n",
       "5  0.036184  \n",
       "6  0.036352  \n",
       "7  0.032745  \n",
       "8  0.033073  "
      ]
     },
     "execution_count": 20,
     "metadata": {},
     "output_type": "execute_result"
    }
   ],
   "source": [
    "pd.DataFrame(path_list[200]).iloc[:9,:]"
   ]
  },
  {
   "cell_type": "markdown",
   "id": "c0365176",
   "metadata": {},
   "source": [
    "# Implementation of the Andersen Algorithm\n",
    "In this section we first create the following functions, useful within the application of the algorithm:\n",
    "- `P` which computes the 'horizontal' discount factor, that discounts the cashflows that a swaption generates after it is exercised.\n",
    "- `S` which is the value of the underlying receiver swap if exercised at T_j.\n",
    "- `D` which computes the value of the stochasitc discount factor using the simulated **spot rates**\n"
   ]
  },
  {
   "cell_type": "code",
   "execution_count": 21,
   "id": "b4cb8fc3",
   "metadata": {},
   "outputs": [],
   "source": [
    "# Function for the discount factor (horizontal)\n",
    "\n",
    "def P(j,k,F):\n",
    "    P = np.prod([1/(1+tau*F[j,i-1]) for i in range(j+1,k+1)])\n",
    "    return P\n",
    "\n",
    "# Compute the value of the underlying swap\n",
    "def S(j,F):\n",
    "    S = tau*np.sum([P(j,k,F)*(K - F[j, k-1]) for k in range(j+1, 17)])\n",
    "    return S\n",
    "\n",
    "    \n",
    "# Function for the discount factor (diagonal)\n",
    "def D(e,F):\n",
    "    D = np.prod([1/(1 + tau * F[j,j])  for j in range(e)])\n",
    "    return D\n"
   ]
  },
  {
   "cell_type": "markdown",
   "id": "580ec430",
   "metadata": {},
   "source": [
    "We use the following cell in order to see approximately which H_max we have to select in each level of the iteration within the Andersen Algorithm."
   ]
  },
  {
   "cell_type": "code",
   "execution_count": 39,
   "id": "3c2287d8",
   "metadata": {
    "scrolled": true
   },
   "outputs": [
    {
     "data": {
      "text/plain": [
       "0.027475390451005516"
      ]
     },
     "execution_count": 39,
     "metadata": {},
     "output_type": "execute_result"
    }
   ],
   "source": [
    "S_vec=[]\n",
    "for j in range(1000):\n",
    "    S_vec.append(S(4,path_list[j])) # \n",
    "upperbound=np.max(S_vec)\n",
    "upperbound"
   ]
  },
  {
   "cell_type": "markdown",
   "id": "28cdbd0c",
   "metadata": {},
   "source": [
    "### Here we begin the algorithm\n",
    "In particular, we proceed as follows:\n",
    "1. we start from computing the optimal exercise strategy as if we would have only the **last two** exercise dates. Then we save the first optimal threshold `H7`\n",
    "2. we compute the optimal exercise strategy as if we would have only **the last three** exercise dates, using also the optimal threshold we found in the previous point `H7`. We save the second optimal threshold `H6`  \n",
    "3. we repeat the same backward procedure, up to the point when we consider to have four exercise dates (which is the characteristic of our Bermudean swaption)\n",
    "4. at the end we have all the optimal thresholds (`H7`,`H6`,`H5`,`H4`) which mazimize the value of our exercise strategy.\n",
    "\n",
    "Note that at the end of each step where we compute the new optimal threshold we also illustrate, through a plot, the value of the exercise strategy as function of the threshold. "
   ]
  },
  {
   "cell_type": "code",
   "execution_count": 23,
   "id": "8152868c",
   "metadata": {},
   "outputs": [
    {
     "name": "stderr",
     "output_type": "stream",
     "text": [
      "100%|████████████████████████████████████████████████████████████████████████████████| 100/100 [00:38<00:00,  2.57it/s]\n"
     ]
    }
   ],
   "source": [
    "H1 = np.linspace(0,0.05,100) \n",
    "\n",
    "prices = []\n",
    "for h in tqdm.tqdm(H1):\n",
    "    V0 = []\n",
    "    for i in range(1000):\n",
    "        F = path_list[i] \n",
    "        V0.append( D(7,F) * S(7,F) * (S(7,F) > h) +  D(8,F)* S(8,F) * ( S(7,F) <= h ) * ( S(8,F) > 0 ) )\n",
    "    prices.append(np.mean(V0))\n",
    "    \n",
    "\n"
   ]
  },
  {
   "cell_type": "code",
   "execution_count": 24,
   "id": "75b94885",
   "metadata": {},
   "outputs": [
    {
     "data": {
      "image/png": "[encoded data removed]",
      "text/plain": [
       "<Figure size 432x288 with 1 Axes>"
      ]
     },
     "metadata": {
      "needs_background": "light"
     },
     "output_type": "display_data"
    }
   ],
   "source": [
    "plt.plot(H1, prices)\n",
    "np.where(H1 == np.max(prices))\n",
    "index = np.where(prices == np.max(prices))\n",
    "H7 = H1[index]\n",
    "p = np.array(prices)[index]\n",
    "plt.xlabel('H7')\n",
    "plt.ylabel('Swaption price(H7)')\n",
    "plt.plot(H7,p , marker=\"o\", markeredgecolor=\"red\",label ='Maximum')\n",
    "plt.legend()\n",
    "plt.show()"
   ]
  },
  {
   "cell_type": "code",
   "execution_count": 25,
   "id": "fe45a9de",
   "metadata": {},
   "outputs": [
    {
     "name": "stderr",
     "output_type": "stream",
     "text": [
      "100%|████████████████████████████████████████████████████████████████████████████████| 100/100 [01:13<00:00,  1.36it/s]\n"
     ]
    }
   ],
   "source": [
    "H1 = np.linspace(0,0.035,100) \n",
    "\n",
    "prices = []\n",
    "for h in tqdm.tqdm(H1):\n",
    "    V0 = []\n",
    "    for i in range(1000):\n",
    "        F = path_list[i] \n",
    "        V0.append( D(6,F)*S(6,F)*(S(6,F)>h) + (D(7,F) * S(7,F) * (S(7,F) > H7)*(S(6,F)<=h) +  D(8,F)* S(8,F) * (S(6,F)<= h)* ( S(7,F) <= H7 ) * ( S(8,F) > 0 ) ))\n",
    "    prices.append(np.mean(V0))\n",
    "    \n",
    "\n"
   ]
  },
  {
   "cell_type": "code",
   "execution_count": 26,
   "id": "f8ee5dde",
   "metadata": {},
   "outputs": [
    {
     "data": {
      "image/png": "[encoded data removed]",
      "text/plain": [
       "<Figure size 432x288 with 1 Axes>"
      ]
     },
     "metadata": {
      "needs_background": "light"
     },
     "output_type": "display_data"
    }
   ],
   "source": [
    "plt.plot(H1, prices)\n",
    "index = np.where(prices == np.max(prices))\n",
    "H6 = H1[index]\n",
    "p = np.array(prices)[index]\n",
    "plt.xlabel('H6')\n",
    "plt.ylabel('Swaption price(H6)')\n",
    "plt.plot(H6,p , marker=\"o\", markeredgecolor=\"red\",label ='Maximum')\n",
    "plt.legend()\n",
    "plt.show()"
   ]
  },
  {
   "cell_type": "code",
   "execution_count": 27,
   "id": "3ee768f8",
   "metadata": {},
   "outputs": [
    {
     "name": "stderr",
     "output_type": "stream",
     "text": [
      "100%|████████████████████████████████████████████████████████████████████████████████| 100/100 [02:04<00:00,  1.24s/it]\n"
     ]
    }
   ],
   "source": [
    "H1 = np.linspace(0,0.035,100) \n",
    "\n",
    "prices = []\n",
    "for h in tqdm.tqdm(H1):\n",
    "    V0 = []\n",
    "    for i in range(1000):\n",
    "        F = path_list[i] \n",
    "        V0.append( D(5,F)*S(5,F)*(S(5,F)>h)+ D(6,F)*S(6,F)*(S(6,F)>H6)*((S(5,F)<=h)) + (D(7,F) * S(7,F) * (S(7,F) > H7)*(S(6,F)<=H6)*(S(5,F)<=h) +  D(8,F)* S(8,F) *(S(5,F)<=h)* (S(6,F)<= H6)* ( S(7,F) <= H7 ) * ( S(8,F) > 0 ) ))\n",
    "    prices.append(np.mean(V0))\n",
    "    \n"
   ]
  },
  {
   "cell_type": "code",
   "execution_count": 28,
   "id": "27c0223d",
   "metadata": {},
   "outputs": [
    {
     "data": {
      "image/png": "[encoded data removed]",
      "text/plain": [
       "<Figure size 432x288 with 1 Axes>"
      ]
     },
     "metadata": {
      "needs_background": "light"
     },
     "output_type": "display_data"
    }
   ],
   "source": [
    "plt.plot(H1, prices)\n",
    "index = np.where(prices == np.max(prices))\n",
    "H5 = H1[index]\n",
    "p = np.array(prices)[index]\n",
    "plt.xlabel('H5')\n",
    "plt.ylabel('Swaption price(H5)')\n",
    "plt.plot(H5,p , marker=\"o\", markeredgecolor=\"red\",label ='Maximum')\n",
    "plt.legend()\n",
    "plt.show()"
   ]
  },
  {
   "cell_type": "code",
   "execution_count": 29,
   "id": "aac94ab9",
   "metadata": {},
   "outputs": [
    {
     "name": "stderr",
     "output_type": "stream",
     "text": [
      "100%|████████████████████████████████████████████████████████████████████████████████| 100/100 [03:16<00:00,  1.96s/it]\n"
     ]
    }
   ],
   "source": [
    "H1 = np.linspace(0,0.03,100) \n",
    "\n",
    "prices = []\n",
    "for h in tqdm.tqdm(H1):\n",
    "    V0 = []\n",
    "    for i in range(1000):\n",
    "        F = path_list[i] \n",
    "        V0.append( D(4,F)*S(4,F)*(S(4,F)>h) + D(5,F) * S(5,F) * (S(5,F) > H5)*(S(4,F)<=h) +  D(6,F)* S(6,F) *(S(6,F) > H6) * ( S(5,F) <= H5 ) * (S(4,F)<= h) + D(7,F) * S(7,F) * ( S(7,F) > H7 )*(S(6,F) <= H6)*(S(5,F) <= H5) * (S(4,F) <= h) + D(8,F) * (S(8,F)) * (S(8,F)>0)*(S(7,F) <= H7)*(S(6,F) <= H6)* (S(5,F) <= H5) * (S(4,F) <= h) )\n",
    "    prices.append(np.mean(V0))\n"
   ]
  },
  {
   "cell_type": "code",
   "execution_count": 30,
   "id": "8a7ed7e2",
   "metadata": {},
   "outputs": [
    {
     "data": {
      "image/png": "[encoded data removed]",
      "text/plain": [
       "<Figure size 432x288 with 1 Axes>"
      ]
     },
     "metadata": {
      "needs_background": "light"
     },
     "output_type": "display_data"
    }
   ],
   "source": [
    "plt.plot(H1, prices)\n",
    "index = np.where(prices == np.max(prices))\n",
    "H4 = H1[index]\n",
    "p = np.array(prices)[index]\n",
    "plt.xlabel('H4')\n",
    "plt.ylabel('Swaption price(H4)')\n",
    "plt.plot(H4,p , marker=\"o\", markeredgecolor=\"red\",label ='Maximum')\n",
    "plt.legend()\n",
    "plt.show()"
   ]
  },
  {
   "cell_type": "markdown",
   "id": "501fc429",
   "metadata": {},
   "source": [
    "## We repeat the simulation of Forward rates and we use the optimal exercise strategy that we derived before to price the receiver Bermudean swaption"
   ]
  },
  {
   "cell_type": "code",
   "execution_count": 31,
   "id": "73a93866",
   "metadata": {},
   "outputs": [],
   "source": [
    "#second simulation of 1000 paths to price the Bermudean\n",
    "path_2=[]\n",
    "for i in range(1000):\n",
    "    f = paths_generator()\n",
    "    path_2.append(f)\n",
    "    "
   ]
  },
  {
   "cell_type": "code",
   "execution_count": 32,
   "id": "e85d3c62",
   "metadata": {},
   "outputs": [
    {
     "name": "stdout",
     "output_type": "stream",
     "text": [
      "Price of the receiver Bermudean swaption: 0.004618781102910455\n"
     ]
    }
   ],
   "source": [
    "V0 = []\n",
    "for i in range(1000):\n",
    "    F = path_2[i] \n",
    "    V0.append( D(4,F)*S(4,F)*(S(4,F)>H4) + D(5,F) * S(5,F) * (S(5,F) > H5)*(S(4,F)<=H4) +  D(6,F)* S(6,F) *(S(6,F) > H6) * ( S(5,F) <= H5 ) * (S(4,F)<= H4) + D(7,F) * S(7,F) * ( S(7,F) > H7 )*(S(6,F) <= H6)*(S(5,F) <= H5) * (S(4,F) <= H4) + D(8,F) * (S(8,F)) * (S(8,F)>0)*(S(7,F) <= H7)*(S(6,F) <= H6)* (S(5,F) <= H5) * (S(4,F) <= H4) )\n",
    "final_price = (np.mean(V0))\n",
    "final_price\n",
    "print(\"Price of the receiver Bermudean swaption:\", final_price)"
   ]
  },
  {
   "cell_type": "code",
   "execution_count": null,
   "id": "468a0e93",
   "metadata": {},
   "outputs": [],
   "source": []
  },
  {
   "cell_type": "code",
   "execution_count": null,
   "id": "dcf2613a",
   "metadata": {},
   "outputs": [],
   "source": []
  },
  {
   "cell_type": "code",
   "execution_count": null,
   "id": "cfd85567",
   "metadata": {},
   "outputs": [],
   "source": []
  },
  {
   "cell_type": "code",
   "execution_count": null,
   "id": "a64a52f1",
   "metadata": {},
   "outputs": [],
   "source": []
  }
 ],
 "metadata": {
  "kernelspec": {
   "display_name": "Python 3 (ipykernel)",
   "language": "python",
   "name": "python3"
  },
  "language_info": {
   "codemirror_mode": {
    "name": "ipython",
    "version": 3
   },
   "file_extension": ".py",
   "mimetype": "text/x-python",
   "name": "python",
   "nbconvert_exporter": "python",
   "pygments_lexer": "ipython3",
   "version": "3.9.7"
  }
 },
 "nbformat": 4,
 "nbformat_minor": 5
}
